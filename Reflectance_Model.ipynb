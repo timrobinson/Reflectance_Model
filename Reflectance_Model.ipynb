{
 "cells": [
  {
   "cell_type": "markdown",
   "metadata": {
    "slideshow": {
     "slide_type": "slide"
    }
   },
   "source": [
    "This program calculates scatter properties using (1) micro-faceted approach, (2) assumes a guassian distribution.  "
   ]
  },
  {
   "cell_type": "code",
   "execution_count": 1,
   "metadata": {
    "collapsed": true,
    "slideshow": {
     "slide_type": "skip"
    }
   },
   "outputs": [],
   "source": [
    "from IPython.display import display, Image, HTML\n",
    "import matplotlib.pyplot as plt\n",
    "import numpy as np\n",
    "import math\n",
    "%matplotlib inline\n",
    "from scipy.stats.kde import gaussian_kde\n",
    "from scipy.stats import norm"
   ]
  },
  {
   "cell_type": "markdown",
   "metadata": {
    "slideshow": {
     "slide_type": "slide"
    }
   },
   "source": [
    "Establish Incident Light - Input Incident Angle"
   ]
  },
  {
   "cell_type": "code",
   "execution_count": 2,
   "metadata": {
    "slideshow": {
     "slide_type": "slide"
    }
   },
   "outputs": [
    {
     "name": "stdout",
     "output_type": "stream",
     "text": [
      "Input Incident Angle: 20\n"
     ]
    }
   ],
   "source": [
    "i_y = np.arange(0,10)\n",
    "i_x = np.array([0.0]*len(i_y))\n",
    "i_angle = -float(raw_input('Input Incident Angle: '))\n",
    "\n",
    "i_x_1 = i_x_1 = i_x*math.cos(math.radians(i_angle)) + i_y*math.sin(math.radians(i_angle))\n",
    "i_y_1 = i_y*math.cos(math.radians(i_angle))"
   ]
  },
  {
   "cell_type": "markdown",
   "metadata": {
    "slideshow": {
     "slide_type": "slide"
    }
   },
   "source": [
    "Establish Micro-Faceted Slopes - Input Roughness Parameter"
   ]
  },
  {
   "cell_type": "code",
   "execution_count": 3,
   "metadata": {
    "slideshow": {
     "slide_type": "slide"
    }
   },
   "outputs": [
    {
     "name": "stdout",
     "output_type": "stream",
     "text": [
      "Input roughness factor (1-30): 30\n"
     ]
    }
   ],
   "source": [
    "scatter_angle = np.arange(-90, 91, 1)\n",
    "\n",
    "n_data = len(scatter_angle)\n",
    "n_rnd = 1000\n",
    "\n",
    "scale = float(raw_input('Input roughness factor (1-30): '))\n",
    "\n",
    "m = np.random.normal(loc=0, scale=scale, size=n_rnd) \n",
    "y = np.zeros((n_data, n_rnd))  \n",
    "\n",
    "for light_reflected in xrange(n_rnd):\n",
    "    y[:,light_reflected] = m[light_reflected] * scatter_angle\n",
    "\n",
    "kde = gaussian_kde(m)\n",
    "yd = kde(scatter_angle)/np.amax(kde(scatter_angle))"
   ]
  },
  {
   "cell_type": "markdown",
   "metadata": {
    "slideshow": {
     "slide_type": "slide"
    }
   },
   "source": [
    "Establish scatter light visualization data"
   ]
  },
  {
   "cell_type": "code",
   "execution_count": 4,
   "metadata": {
    "collapsed": true,
    "slideshow": {
     "slide_type": "skip"
    }
   },
   "outputs": [],
   "source": [
    "scatter_angle = [math.radians(x) for x in scatter_angle]\n",
    "Isy = [x*math.cos(y) for x, y in zip(yd, scatter_angle)]\n",
    "Isx = [x*math.sin(y) for x, y in zip(yd, scatter_angle)]\n",
    "\n",
    "zero_x =[0]*len(scatter_angle)\n",
    "zero_y =[0]*len(scatter_angle)\n",
    "\n",
    "ref_y = [0, 1.5]\n",
    "ref_x = [0]*len(ref_y)"
   ]
  },
  {
   "cell_type": "code",
   "execution_count": 5,
   "metadata": {
    "slideshow": {
     "slide_type": "slide"
    }
   },
   "outputs": [
    {
     "data": {
      "image/png": "[encoded data removed]",
      "text/plain": [
       "<matplotlib.figure.Figure at 0xa6710f0>"
      ]
     },
     "metadata": {},
     "output_type": "display_data"
    }
   ],
   "source": [
    "# rotation matrix; x' = xcos(i_angle) + ysin(i_angle); y' = ycos(90-i_angle) - xsin(90-i_angle) for x, y \n",
    "Isx = [x*math.cos(math.radians(-i_angle)) + y*math.sin(math.radians(-i_angle)) for x, y in zip(Isx, Isy)]\n",
    "Isy = [y*math.cos(math.radians(-i_angle)) - x*math.sin(math.radians(-i_angle)) for x, y in zip(Isx, Isy)]\n",
    "\n",
    "for i in range(len(scatter_angle)):\n",
    "    plt.plot([zero_x[i], Isx[i]], [zero_y[i], Isy[i]], 'cyan', alpha = 0.7) \n",
    "plt.xlim(-1,1)\n",
    "plt.axis()\n",
    "plt.gca().set_aspect('equal', adjustable='box')\n",
    "plt.annotate('', (0, 0), xycoords=('data'), xytext=(i_x_1[-1]*.25, i_y_1[-1]*.25), arrowprops=dict(arrowstyle='->'))\n",
    "plt.text(1, 1, r'$\\theta\\i\\ =$' +str(i_angle*(-1)), fontsize=16)\n",
    "font = {'family':'serif', 'color':'darkred', 'size': 14}\n",
    "plt.text((i_x_1[-1]*.25)-1, (i_y_1[-1]*.25)-0.4,'Incident Light', fontdict = font)\n",
    "plt.text(Isx[100]+.15, Isy[100],'Scattered Light', fontdict = font)\n",
    "plt.ylim(0,2.1)\n",
    "plt.axis('off')\n",
    "plt.plot(ref_x, ref_y, '--')\n",
    "plt.show()"
   ]
  }
 ],
 "metadata": {
  "celltoolbar": "Slideshow",
  "kernelspec": {
   "display_name": "Python 2",
   "language": "python",
   "name": "python2"
  },
  "language_info": {
   "codemirror_mode": {
    "name": "ipython",
    "version": 2
   },
   "file_extension": ".py",
   "mimetype": "text/x-python",
   "name": "python",
   "nbconvert_exporter": "python",
   "pygments_lexer": "ipython2",
   "version": "2.7.12"
  }
 },
 "nbformat": 4,
 "nbformat_minor": 1
}
